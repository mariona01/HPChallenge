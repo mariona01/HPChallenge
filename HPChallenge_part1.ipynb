{
 "cells": [
  {
   "attachments": {},
   "cell_type": "markdown",
   "metadata": {},
   "source": [
    "Firstly, we import the used libraries:"
   ]
  },
  {
   "cell_type": "code",
   "execution_count": 39,
   "metadata": {},
   "outputs": [],
   "source": [
    "import os\n",
    "from sklearn.linear_model import SGDClassifier\n",
    "from sklearn.preprocessing import StandardScaler\n",
    "from sklearn.pipeline import make_pipeline\n",
    "from sklearn.metrics import confusion_matrix, ConfusionMatrixDisplay\n",
    "import numpy as np\n",
    "import cv2\n",
    "import matplotlib.pyplot as plt\n",
    "import random"
   ]
  },
  {
   "attachments": {},
   "cell_type": "markdown",
   "metadata": {},
   "source": [
    "Now we declare the variables that will be uses throught the program, where the images of training and testing which will be stored in dictinaries that hold the values 'filename', 'label' and 'data'. Where 'label' is the image tag and 'data' the image itself."
   ]
  },
  {
   "cell_type": "code",
   "execution_count": 40,
   "metadata": {},
   "outputs": [],
   "source": [
    "train_dict = dict()\n",
    "train_dict['filename'] = []\n",
    "train_dict['label'] = []\n",
    "train_dict['data'] = []\n",
    "test_dict = dict()\n",
    "test_dict['filename'] = []\n",
    "test_dict['label'] = []\n",
    "test_dict['data'] = []\n",
    "y_prediction = []\n",
    "width = 250\n",
    "height = 350"
   ]
  },
  {
   "attachments": {},
   "cell_type": "markdown",
   "metadata": {},
   "source": [
    "Definition of the function introduce_data() which is in charge of introducing the images' data into their corresponging dictonaries. THe images are imported using the opencv library, and they are reshaped to be stored in a smaller (and equal) size."
   ]
  },
  {
   "cell_type": "code",
   "execution_count": 41,
   "metadata": {},
   "outputs": [],
   "source": [
    "def introduce_data(path, label, train_dict, test_dict):\n",
    "    for file in os.listdir(path):\n",
    "        if file == \"train\":\n",
    "            y_path = os.path.join(path, file)\n",
    "            for picture in os.listdir(y_path):\n",
    "                pic_path = os.path.join(y_path, picture)\n",
    "                im = cv2.imread(pic_path)\n",
    "                im = cv2.resize(im, (width, height))\n",
    "                train_dict['data'].append(im)\n",
    "                train_dict['label'].append(label)\n",
    "                train_dict['filename'].append(picture)\n",
    "        else:\n",
    "            x_path = os.path.join(path, file)\n",
    "            for picture in os.listdir(x_path):\n",
    "                pic_path = os.path.join(x_path, picture)\n",
    "                im = cv2.imread(pic_path)\n",
    "                im = cv2.resize(im, (width, height))\n",
    "                test_dict['data'].append(im)\n",
    "                test_dict['label'].append(label)\n",
    "                test_dict['filename'].append(picture)"
   ]
  },
  {
   "attachments": {},
   "cell_type": "markdown",
   "metadata": {},
   "source": [
    "We continue with the definition of the train() function. This fucntion trains the algorithm with the images passed by argument and returns a prediction based on the test images."
   ]
  },
  {
   "cell_type": "code",
   "execution_count": 42,
   "metadata": {},
   "outputs": [],
   "source": [
    "def train(train_dict, test_dict):\n",
    "    x_train = np.array(train_dict['data'], dtype=float)\n",
    "    x_train = np.reshape(x_train, (x_train.shape[0], -1))\n",
    "    y_train = np.array(train_dict['label'])\n",
    "    clf = make_pipeline(StandardScaler(), SGDClassifier(max_iter=1000, tol=1e-3))\n",
    "    clf.fit(x_train, y_train)\n",
    "\n",
    "    x_test = np.array(test_dict['data'], dtype=float)\n",
    "    x_test = np.reshape(x_test, (x_test.shape[0], -1))\n",
    "    y_prediction = clf.predict(x_test)\n",
    "    z = 0\n",
    "    print(\"PREDICTION\" + \" - \" + \"TRUE VALUE\")\n",
    "    for z in range(10):\n",
    "        rand = random.randint(0, len(y_prediction))\n",
    "        \n",
    "        print(y_prediction[rand] + \"  ->  \" + test_dict['label'][rand])\n",
    "    return y_prediction"
   ]
  },
  {
   "attachments": {},
   "cell_type": "markdown",
   "metadata": {},
   "source": [
    "Once the functions are defined we can call them to store the images and get the predcitions. The images are taken from the path stored in the vaariable 'path'."
   ]
  },
  {
   "cell_type": "code",
   "execution_count": 43,
   "metadata": {},
   "outputs": [],
   "source": [
    "path = \"C:\\\\Users\\\\Usuari\\\\Desktop\\\\Database\"\n",
    "label = \"\"\n",
    "for file in os.listdir(path):\n",
    "    if file == \"Documents\":\n",
    "        label = \"Document\"\n",
    "    if file == \"Plans\":\n",
    "        label = \"Plan\"\n",
    "    if file == \"Tickets\":\n",
    "        label = \"Ticket\"\n",
    "        file = file + \"\\\\imges\"\n",
    "\n",
    "    new_path = os.path.join(path, file)\n",
    "    introduce_data(new_path, label, train_dict, test_dict)"
   ]
  },
  {
   "attachments": {},
   "cell_type": "markdown",
   "metadata": {},
   "source": [
    "Produce predicted values and print some of them randomly."
   ]
  },
  {
   "cell_type": "code",
   "execution_count": 44,
   "metadata": {},
   "outputs": [
    {
     "name": "stdout",
     "output_type": "stream",
     "text": [
      "PREDICTION - TRUE VALUE\n",
      "Document  ->  Document\n",
      "Plan  ->  Plan\n",
      "Document  ->  Document\n",
      "Plan  ->  Plan\n",
      "Plan  ->  Plan\n",
      "Document  ->  Document\n",
      "Ticket  ->  Ticket\n",
      "Document  ->  Document\n",
      "Ticket  ->  Ticket\n",
      "Plan  ->  Plan\n"
     ]
    }
   ],
   "source": [
    "y_prediction = train(train_dict, test_dict)"
   ]
  },
  {
   "attachments": {},
   "cell_type": "markdown",
   "metadata": {},
   "source": [
    "Finally, we calculate the confussion matrix with a function from the sklearn library. We normalize the values to make them more understandable."
   ]
  },
  {
   "cell_type": "code",
   "execution_count": 46,
   "metadata": {},
   "outputs": [
    {
     "name": "stdout",
     "output_type": "stream",
     "text": [
      "Accuracy: 94.44444444444444\n"
     ]
    },
    {
     "data": {
      "text/plain": [
       "<matplotlib.image.AxesImage at 0x20d2880e550>"
      ]
     },
     "execution_count": 46,
     "metadata": {},
     "output_type": "execute_result"
    },
    {
     "data": {
      "image/png": "[encoded data removed]",
      "text/plain": [
       "<Figure size 300x300 with 2 Axes>"
      ]
     },
     "metadata": {},
     "output_type": "display_data"
    }
   ],
   "source": [
    "label_names = ['Document', 'Plan', 'Ticket']\n",
    "cmx = confusion_matrix(y_prediction, test_dict['label'], labels=label_names, normalize=\"true\")\n",
    "graph = ConfusionMatrixDisplay(cmx, display_labels=label_names)\n",
    "fig, ax = plt.subplots(figsize=(3,3))\n",
    "graph.plot(ax=ax, values_format='.2f')\n",
    "fig.suptitle(\"Confusion matrix\")\n",
    "\n",
    "print(\"Accuracy: \" + str(100*np.sum(y_prediction == test_dict['label'])/len(test_dict['label'])))\n",
    "plt.imshow(cmx)"
   ]
  }
 ],
 "metadata": {
  "kernelspec": {
   "display_name": "venv",
   "language": "python",
   "name": "python3"
  },
  "language_info": {
   "codemirror_mode": {
    "name": "ipython",
    "version": 3
   },
   "file_extension": ".py",
   "mimetype": "text/x-python",
   "name": "python",
   "nbconvert_exporter": "python",
   "pygments_lexer": "ipython3",
   "version": "3.11.2"
  },
  "orig_nbformat": 4,
  "vscode": {
   "interpreter": {
    "hash": "995c010c12b66c82aef057c251157f40d147c67df43b0b09e440f0deaba0d411"
   }
  }
 },
 "nbformat": 4,
 "nbformat_minor": 2
}
